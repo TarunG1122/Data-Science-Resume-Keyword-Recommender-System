{
 "cells": [
  {
   "cell_type": "code",
   "execution_count": 1,
   "id": "0b0cc318",
   "metadata": {},
   "outputs": [],
   "source": [
    "import sys , os\n",
    "from keybert import KeyBERT\n",
    "from keyphrase_vectorizers import KeyphraseCountVectorizer"
   ]
  },
  {
   "cell_type": "code",
   "execution_count": 2,
   "id": "3143b614",
   "metadata": {},
   "outputs": [],
   "source": [
    "wds = open(\"C:\\\\Users\\\\tarun\\\\Desktop\\\\mainkeywords.txt\",mode='r',encoding='utf-8').read()"
   ]
  },
  {
   "cell_type": "code",
   "execution_count": 3,
   "id": "fadc4157",
   "metadata": {},
   "outputs": [],
   "source": [
    "kw_extractor = KeyBERT('valurank/MiniLM-L6-Keyword-Extraction')\n",
    "keywords = kw_extractor.extract_keywords(wds, vectorizer=KeyphraseCountVectorizer(), stop_words=None, top_n=20)\n",
    "keywords = [i for i in keywords if i[1] > 0.25]\n",
    "\n",
    "keybert_diversity_phrases = []\n",
    "for i, j in keywords:\n",
    "    keybert_diversity_phrases.append(i)"
   ]
  },
  {
   "cell_type": "code",
   "execution_count": 4,
   "id": "fd3d7ce7",
   "metadata": {},
   "outputs": [
    {
     "data": {
      "text/plain": [
       "['machine learning jobs',\n",
       " 'machine learning models',\n",
       " 'machine learning algorithms',\n",
       " 'ml algorithms',\n",
       " 'machine learning specialist',\n",
       " 'building machine learning',\n",
       " 'machine learning solutions',\n",
       " 'support vector machines',\n",
       " 'machine learning',\n",
       " 'classification',\n",
       " 'big data modeling skills',\n",
       " 'svm',\n",
       " 'end machine learning prototypes',\n",
       " 'level data analyst',\n",
       " 'data science',\n",
       " 'tensorflow',\n",
       " 'decision trees',\n",
       " 'artificial neural networks',\n",
       " 'data science skills',\n",
       " 'data mining']"
      ]
     },
     "execution_count": 4,
     "metadata": {},
     "output_type": "execute_result"
    }
   ],
   "source": [
    "keybert_diversity_phrases"
   ]
  },
  {
   "cell_type": "code",
   "execution_count": 5,
   "id": "0ebb8ddc",
   "metadata": {},
   "outputs": [],
   "source": [
    "def get_keybert_results():\n",
    "    try:\n",
    "        text = open(\"C:\\\\Users\\\\tarun\\\\Desktop\\\\mainkeywords.txt\",mode='r',encoding='utf-8').read()\n",
    "        kw_model = KeyBERT()\n",
    "        main_words = kw_model.extract_keywords(text, keyphrase_ngram_range=(1, 1), stop_words='english', use_maxsum=True, nr_candidates=30, top_n=30)\n",
    "        main_Keyword = []\n",
    "        for i in main_words:\n",
    "            main_Keyword.append(i[0])\n",
    "        ###################################################\n",
    "        resumedata  = open(\"C:\\\\Users\\\\tarun\\\\Desktop\\\\sample resume.txt\",mode='r',encoding='utf-8').read()\n",
    "        reskeyword = kw_model.extract_keywords(resumedata,keyphrase_ngram_range=(1, 1), stop_words='english', use_maxsum=True, nr_candidates=20, top_n=20)\n",
    "        resume_Keywords = []\n",
    "        for i in reskeyword:\n",
    "            resume_Keywords.append(i[0])\n",
    "        #######################################################\n",
    "        reckeywords = []\n",
    "        for i in main_words:\n",
    "            if i[1] > 0.25 and i[0] not in resume_Keywords :\n",
    "                reckeywords.append(i[0])\n",
    "        \n",
    "        output_df = pd.DataFrame()\n",
    "        output_df['keyword'] = np.array(reckeywords)\n",
    "        return output_df.head(20)\n",
    "    except Exception:\n",
    "        return \"Error\""
   ]
  },
  {
   "cell_type": "code",
   "execution_count": 6,
   "id": "d2251350",
   "metadata": {},
   "outputs": [
    {
     "data": {
      "text/plain": [
       "'Error'"
      ]
     },
     "execution_count": 6,
     "metadata": {},
     "output_type": "execute_result"
    }
   ],
   "source": [
    "get_keybert_results()"
   ]
  },
  {
   "cell_type": "markdown",
   "id": "27e2af95",
   "metadata": {},
   "source": [
    "# MAIN"
   ]
  },
  {
   "cell_type": "code",
   "execution_count": 7,
   "id": "7221655c",
   "metadata": {},
   "outputs": [
    {
     "name": "stderr",
     "output_type": "stream",
     "text": [
      "D:\\ana\\lib\\site-packages\\gradio\\inputs.py:26: UserWarning: Usage of gradio.inputs is deprecated, and will not be supported in the future, please import your component from gradio.components\n",
      "  warnings.warn(\n",
      "D:\\ana\\lib\\site-packages\\gradio\\deprecation.py:40: UserWarning: `optional` parameter is deprecated, and it has no effect\n",
      "  warnings.warn(value)\n",
      "D:\\ana\\lib\\site-packages\\gradio\\deprecation.py:40: UserWarning: `numeric` parameter is deprecated, and it has no effect\n",
      "  warnings.warn(value)\n",
      "D:\\ana\\lib\\site-packages\\gradio\\deprecation.py:40: UserWarning: The 'type' parameter has been deprecated. Use the Number component instead.\n",
      "  warnings.warn(value)\n",
      "D:\\ana\\lib\\site-packages\\gradio\\outputs.py:127: UserWarning: Usage of gradio.outputs is deprecated, and will not be supported in the future, please import your components from gradio.components\n",
      "  warnings.warn(\n"
     ]
    },
    {
     "name": "stdout",
     "output_type": "stream",
     "text": [
      "Running on local URL:  http://127.0.0.1:7860\n",
      "\n",
      "To create a public link, set `share=True` in `launch()`.\n"
     ]
    },
    {
     "data": {
      "text/html": [
       "<div><iframe src=\"http://127.0.0.1:7860/\" width=\"900\" height=\"500\" allow=\"autoplay; camera; microphone; clipboard-read; clipboard-write;\" frameborder=\"0\" allowfullscreen></iframe></div>"
      ],
      "text/plain": [
       "<IPython.core.display.HTML object>"
      ]
     },
     "metadata": {},
     "output_type": "display_data"
    }
   ],
   "source": [
    "import pandas as pd\n",
    "import numpy as np\n",
    "import gradio as gr\n",
    "from keybert import KeyBERT\n",
    "\n",
    "def read_in_text(url):\n",
    "  with open(url, 'r') as file:\n",
    "    article = file.read()\n",
    "    return article\n",
    "    \n",
    "#tmp_model = SentenceTransformer('valurank/MiniLM-L6-Keyword-Extraction')\n",
    "kw_extractor = KeyBERT()\n",
    "\n",
    "def get_keybert_results(text):\n",
    "    try:\n",
    "        main_kw = open(\"C:\\\\Users\\\\tarun\\\\Desktop\\\\mainkeywords.txt\",mode='r',encoding='utf-8').read()\n",
    "        kw_model = KeyBERT()\n",
    "        main_words = kw_model.extract_keywords(main_kw, keyphrase_ngram_range=(1, 1), stop_words='english', use_maxsum=True, nr_candidates=30, top_n=30)\n",
    "        main_Keyword = []\n",
    "        for i in main_words:\n",
    "            main_Keyword.append(i[0])\n",
    "        ########################################################\n",
    "        reskeyword = kw_model.extract_keywords(text,keyphrase_ngram_range=(1, 1), stop_words='english', use_maxsum=True, nr_candidates=20, top_n=20)\n",
    "        resume_Keywords = []\n",
    "        for i in reskeyword:\n",
    "            resume_Keywords.append(i[0])\n",
    "            \n",
    "        reckeywords = []\n",
    "        for i in main_words:\n",
    "            if i[1] > 0.20 and i[0] not in resume_Keywords :\n",
    "                reckeywords.append(i[0])\n",
    "                \n",
    "        output_df = pd.DataFrame()\n",
    "        output_df['keyword'] = np.array(reckeywords)\n",
    "        return output_df.head(20)\n",
    "    except Exception:\n",
    "        return \"Error\"\n",
    "        \n",
    "demo = gr.Interface(get_keybert_results, inputs=gr.inputs.Textbox(),\n",
    "                    outputs=gr.outputs.Dataframe(),\n",
    "                    title = \"Data Science Keyword Recommender Systems\")\n",
    "                    \n",
    "if __name__ == \"__main__\":\n",
    "    demo.launch(debug=False)"
   ]
  }
 ],
 "metadata": {
  "kernelspec": {
   "display_name": "Python 3 (ipykernel)",
   "language": "python",
   "name": "python3"
  },
  "language_info": {
   "codemirror_mode": {
    "name": "ipython",
    "version": 3
   },
   "file_extension": ".py",
   "mimetype": "text/x-python",
   "name": "python",
   "nbconvert_exporter": "python",
   "pygments_lexer": "ipython3",
   "version": "3.9.12"
  }
 },
 "nbformat": 4,
 "nbformat_minor": 5
}
